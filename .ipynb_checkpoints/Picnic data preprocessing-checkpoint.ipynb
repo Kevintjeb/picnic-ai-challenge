{
 "cells": [
  {
   "cell_type": "code",
   "execution_count": null,
   "metadata": {},
   "outputs": [],
   "source": [
    "import pandas as pd\n",
    "import pandas_profiling as pp"
   ]
  },
  {
   "cell_type": "markdown",
   "metadata": {},
   "source": [
    "# Picnic AI challenge:\n",
    "## Data exploration and preparation\n",
    "### to use in custom computer vision experiment"
   ]
  },
  {
   "cell_type": "code",
   "execution_count": null,
   "metadata": {},
   "outputs": [],
   "source": [
    "train_metadata = pd.read_csv('train.tsv', sep='\\t', header=0)"
   ]
  },
  {
   "cell_type": "code",
   "execution_count": null,
   "metadata": {},
   "outputs": [],
   "source": [
    "train_metadata.describe()"
   ]
  },
  {
   "cell_type": "code",
   "execution_count": null,
   "metadata": {},
   "outputs": [],
   "source": [
    "train_metadata.groupby([\"label\"]).count()"
   ]
  },
  {
   "cell_type": "code",
   "execution_count": null,
   "metadata": {},
   "outputs": [],
   "source": [
    "train_metadata.head()"
   ]
  },
  {
   "cell_type": "code",
   "execution_count": null,
   "metadata": {},
   "outputs": [],
   "source": [
    "# Preprocessing steps:\n",
    "import os\n",
    "import shutil\n",
    "\n",
    "# sort images by label\n",
    "for row, column in train_metadata.iterrows():\n",
    "    if not os.path.exists('sorted_classes'):\n",
    "        os.makedirs('sorted_classes')\n",
    "    if not os.path.exists('sorted_classes/' + column.label):\n",
    "        os.makedirs('sorted_classes/' + column.label)\n",
    "    # Change to match proper directory of data\n",
    "    data_from = './train/' + column.file\n",
    "    data_to = './sorted_classes/' + column.label + '/' + column.file\n",
    "    \n",
    "    shutil.copyfile(data_from, data_to)"
   ]
  },
  {
   "cell_type": "code",
   "execution_count": null,
   "metadata": {},
   "outputs": [],
   "source": []
  }
 ],
 "metadata": {
  "kernelspec": {
   "display_name": "Python 3",
   "language": "python",
   "name": "python3"
  },
  "language_info": {
   "codemirror_mode": {
    "name": "ipython",
    "version": 3
   },
   "file_extension": ".py",
   "mimetype": "text/x-python",
   "name": "python",
   "nbconvert_exporter": "python",
   "pygments_lexer": "ipython3",
   "version": "3.6.4"
  }
 },
 "nbformat": 4,
 "nbformat_minor": 2
}
